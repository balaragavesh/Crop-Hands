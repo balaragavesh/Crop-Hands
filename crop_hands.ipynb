{
 "cells": [
  {
   "cell_type": "code",
   "execution_count": 3,
   "id": "eb3a7e34",
   "metadata": {},
   "outputs": [],
   "source": [
    "import cv2\n",
    "import mediapipe as mp\n",
    "\n",
    "mphands = mp.solutions.hands\n",
    "hands = mphands.Hands()\n",
    "mp_holistic = mp.solutions.holistic\n",
    "mp_drawing = mp.solutions.drawing_utils\n",
    "img = cv2.imread('images.jpg')\n",
    "h, w, c = img.shape\n",
    "framergb = cv2.cvtColor(img, cv2.COLOR_BGR2RGB)\n",
    "t = 0\n",
    "with mp_holistic.Holistic(min_detection_confidence=0.5,min_tracking_confidence=0.3) as holisitc:\n",
    "        result = holisitc.process(framergb)\n",
    "        right = result.right_hand_landmarks\n",
    "        left = result.left_hand_landmarks\n",
    "        if right:\n",
    "            rx_max = 0\n",
    "            ry_max = 0\n",
    "            rx_min = w\n",
    "            ry_min = h\n",
    "            for lm in right.landmark:\n",
    "                x, y = int(lm.x * w), int(lm.y * h)\n",
    "                if x > rx_max:\n",
    "                    rx_max = x\n",
    "                if x < rx_min:\n",
    "                    rx_min = x\n",
    "                if y > ry_max:\n",
    "                    ry_max = y\n",
    "                if y < ry_min:\n",
    "                    ry_min = y\n",
    "            rcrop_img = img[ry_min:ry_max, rx_min:rx_max]\n",
    "            cv2.imwrite(\"rightcrop.jpg\",rcrop_img)\n",
    "            cv2.imshow(\"rcrop\", rcrop_img)\n",
    "            t+=1\n",
    "            if cv2.waitKey(1) & 0xFF==ord('q') :\n",
    "                cv2.destroyAllWindows()\n",
    "        if left:\n",
    "            lx_max = 0\n",
    "            ly_max = 0\n",
    "            lx_min = w\n",
    "            ly_min = h\n",
    "            for lm in left.landmark:\n",
    "                x, y = int(lm.x * w), int(lm.y * h)\n",
    "                if x > lx_max:\n",
    "                    lx_max = x\n",
    "                if x < lx_min:\n",
    "                    lx_min = x\n",
    "                if y > ly_max:\n",
    "                    ly_max = y\n",
    "                if y < ly_min:\n",
    "                    ly_min = y\n",
    "            lcrop_img = img[ly_min:ly_max, lx_min:lx_max]\n",
    "            cv2.imshow(\"lcrop\", lcrop_img)\n",
    "            cv2.imwrite(\"leftcrop.jpg\",lcrop_img)\n",
    "            if cv2.waitKey(1) & 0xFF==ord('q') :\n",
    "                cv2.destroyAllWindows()"
   ]
  },
  {
   "cell_type": "code",
   "execution_count": 2,
   "id": "64785539",
   "metadata": {},
   "outputs": [],
   "source": [
    "cv2.destroyAllWindows()"
   ]
  },
  {
   "cell_type": "code",
   "execution_count": null,
   "id": "d2b887d2",
   "metadata": {},
   "outputs": [],
   "source": []
  }
 ],
 "metadata": {
  "kernelspec": {
   "display_name": "Python 3.10.6 64-bit",
   "language": "python",
   "name": "python3"
  },
  "language_info": {
   "codemirror_mode": {
    "name": "ipython",
    "version": 3
   },
   "file_extension": ".py",
   "mimetype": "text/x-python",
   "name": "python",
   "nbconvert_exporter": "python",
   "pygments_lexer": "ipython3",
   "version": "3.10.6"
  },
  "vscode": {
   "interpreter": {
    "hash": "cb227e74cfe72f728efd549cbdf01fb314638c8609826f33cd76a26de68c6545"
   }
  }
 },
 "nbformat": 4,
 "nbformat_minor": 5
}
